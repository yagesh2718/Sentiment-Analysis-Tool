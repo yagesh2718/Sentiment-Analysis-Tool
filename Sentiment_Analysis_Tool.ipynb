{
  "nbformat": 4,
  "nbformat_minor": 0,
  "metadata": {
    "colab": {
      "provenance": []
    },
    "kernelspec": {
      "name": "python3",
      "display_name": "Python 3"
    },
    "language_info": {
      "name": "python"
    }
  },
  "cells": [
    {
      "cell_type": "code",
      "source": [
        "#  Install dependencies (Run only once in Colab/Notebook)\n",
        "!pip install nltk scikit-learn matplotlib seaborn --quiet\n",
        "\n",
        "#  Imports\n",
        "import nltk\n",
        "nltk.download('movie_reviews')\n",
        "\n",
        "from nltk.corpus import movie_reviews\n",
        "import random\n",
        "import pandas as pd\n",
        "import matplotlib.pyplot as plt\n",
        "import seaborn as sns\n",
        "\n",
        "from sklearn.model_selection import train_test_split\n",
        "from sklearn.feature_extraction.text import CountVectorizer\n",
        "from sklearn.naive_bayes import MultinomialNB\n",
        "from sklearn.metrics import classification_report, confusion_matrix"
      ],
      "metadata": {
        "colab": {
          "base_uri": "https://localhost:8080/"
        },
        "id": "W7ERKwhWaDC1",
        "outputId": "8497a718-0694-4f7f-a3eb-4e6a979b5562"
      },
      "execution_count": 5,
      "outputs": [
        {
          "output_type": "stream",
          "name": "stderr",
          "text": [
            "[nltk_data] Downloading package movie_reviews to /root/nltk_data...\n",
            "[nltk_data]   Package movie_reviews is already up-to-date!\n"
          ]
        }
      ]
    },
    {
      "cell_type": "code",
      "source": [
        "#  Load and shuffle data\n",
        "documents = [(movie_reviews.raw(fileid), category)\n",
        "             for category in movie_reviews.categories()\n",
        "             for fileid in movie_reviews.fileids(category)]\n",
        "random.shuffle(documents)\n",
        "\n",
        "#  Convert to DataFrame\n",
        "data = pd.DataFrame(documents, columns=[\"review\", \"label\"])\n",
        "\n",
        "#  Split data\n",
        "X_train, X_test, y_train, y_test = train_test_split(\n",
        "    data['review'], data['label'], test_size=0.2, random_state=42)"
      ],
      "metadata": {
        "id": "Mv4omcLKaH8z"
      },
      "execution_count": 6,
      "outputs": []
    },
    {
      "cell_type": "code",
      "source": [
        "#  Vectorization\n",
        "vectorizer = CountVectorizer(stop_words='english')\n",
        "X_train_vec = vectorizer.fit_transform(X_train)\n",
        "X_test_vec = vectorizer.transform(X_test)\n",
        "\n",
        "#  Train model\n",
        "model = MultinomialNB()\n",
        "model.fit(X_train_vec, y_train)\n",
        "\n",
        "#  Predictions\n",
        "y_pred = model.predict(X_test_vec)\n",
        "\n",
        "#  Evaluation\n",
        "print(\"Classification Report:\\n\", classification_report(y_test, y_pred))"
      ],
      "metadata": {
        "colab": {
          "base_uri": "https://localhost:8080/"
        },
        "id": "vMgYbxoraLxD",
        "outputId": "303c9de7-3526-4cf8-8581-fa5982c393a0"
      },
      "execution_count": 7,
      "outputs": [
        {
          "output_type": "stream",
          "name": "stdout",
          "text": [
            "Classification Report:\n",
            "               precision    recall  f1-score   support\n",
            "\n",
            "         neg       0.80      0.85      0.82       190\n",
            "         pos       0.86      0.80      0.83       210\n",
            "\n",
            "    accuracy                           0.83       400\n",
            "   macro avg       0.83      0.83      0.83       400\n",
            "weighted avg       0.83      0.83      0.83       400\n",
            "\n"
          ]
        }
      ]
    },
    {
      "cell_type": "code",
      "source": [
        "# Confusion Matrix\n",
        "cm = confusion_matrix(y_test, y_pred)\n",
        "sns.heatmap(cm, annot=True, fmt='d', cmap='Blues',\n",
        "            xticklabels=model.classes_, yticklabels=model.classes_)\n",
        "plt.xlabel(\"Predicted\")\n",
        "plt.ylabel(\"Actual\")\n",
        "plt.title(\"Confusion Matrix\")\n",
        "plt.show()"
      ],
      "metadata": {
        "colab": {
          "base_uri": "https://localhost:8080/",
          "height": 472
        },
        "id": "JnVQCBoSaPTC",
        "outputId": "7e457f88-b3ce-489d-f250-9bd811a81b1d"
      },
      "execution_count": 8,
      "outputs": [
        {
          "output_type": "display_data",
          "data": {
            "text/plain": [
              "<Figure size 640x480 with 2 Axes>"
            ],
            "image/png": "[encoded data removed]"
          },
          "metadata": {}
        }
      ]
    },
    {
      "cell_type": "code",
      "source": [
        "#  Try it out\n",
        "samples = [\n",
        "    \"Absolutely fantastic movie with brilliant acting and storyline!\",\n",
        "    \"Terrible plot. I walked out halfway through. Waste of time.\",\n",
        "    \"It was okay, some parts were good but overall forgettable.\",\n",
        "    \"I loved the cinematography and direction, very well made!\",\n",
        "    \"Bad acting, poor dialogues, and no sense of story at all.\",\n",
        "    \"A beautiful and emotional film that stays with you long after.\"\n",
        "]\n",
        "\n",
        "for i, review in enumerate(samples, 1):\n",
        "    sentiment = predict_sentiment(review)\n",
        "    print(f\"{i}. Review: \\\"{review}\\\"\\n   ➤ Predicted Sentiment: {sentiment.upper()}\\n\")"
      ],
      "metadata": {
        "colab": {
          "base_uri": "https://localhost:8080/"
        },
        "id": "PqlA_oAvaS2q",
        "outputId": "c571c9b3-cfc7-4593-8895-d8aae621178f"
      },
      "execution_count": 9,
      "outputs": [
        {
          "output_type": "stream",
          "name": "stdout",
          "text": [
            "1. Review: \"Absolutely fantastic movie with brilliant acting and storyline!\"\n",
            "   ➤ Predicted Sentiment: POS\n",
            "\n",
            "2. Review: \"Terrible plot. I walked out halfway through. Waste of time.\"\n",
            "   ➤ Predicted Sentiment: NEG\n",
            "\n",
            "3. Review: \"It was okay, some parts were good but overall forgettable.\"\n",
            "   ➤ Predicted Sentiment: POS\n",
            "\n",
            "4. Review: \"I loved the cinematography and direction, very well made!\"\n",
            "   ➤ Predicted Sentiment: POS\n",
            "\n",
            "5. Review: \"Bad acting, poor dialogues, and no sense of story at all.\"\n",
            "   ➤ Predicted Sentiment: NEG\n",
            "\n",
            "6. Review: \"A beautiful and emotional film that stays with you long after.\"\n",
            "   ➤ Predicted Sentiment: POS\n",
            "\n"
          ]
        }
      ]
    }
  ]
}